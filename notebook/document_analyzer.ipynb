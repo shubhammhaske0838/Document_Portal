{
 "cells": [
  {
   "cell_type": "code",
   "execution_count": 1,
   "id": "74ca7f67",
   "metadata": {},
   "outputs": [],
   "source": [
    "import os"
   ]
  },
  {
   "cell_type": "code",
   "execution_count": 2,
   "id": "8556bf64",
   "metadata": {},
   "outputs": [
    {
     "data": {
      "text/plain": [
       "'c:\\\\Python\\\\2025\\\\Gen AI - 25\\\\LLMOPS Project\\\\Document_Portal\\\\notebook\\\\data\\\\document_analysis'"
      ]
     },
     "execution_count": 2,
     "metadata": {},
     "output_type": "execute_result"
    }
   ],
   "source": [
    "os.getenv(\"DATA_STORAGE_PATH\",\n",
    "                os.path.join(os.getcwd(),\"data\",\"document_analysis\"))"
   ]
  },
  {
   "cell_type": "code",
   "execution_count": 3,
   "id": "616d865e",
   "metadata": {},
   "outputs": [
    {
     "data": {
      "text/plain": [
       "'c:\\\\Python\\\\2025\\\\Gen AI - 25\\\\LLMOPS Project\\\\Document_Portal\\\\notebook'"
      ]
     },
     "execution_count": 3,
     "metadata": {},
     "output_type": "execute_result"
    }
   ],
   "source": [
    "os.getcwd()"
   ]
  },
  {
   "cell_type": "code",
   "execution_count": 4,
   "id": "1715a8a5",
   "metadata": {},
   "outputs": [],
   "source": [
    "import uuid\n",
    "from datetime import datetime"
   ]
  },
  {
   "cell_type": "code",
   "execution_count": null,
   "id": "236fb94f",
   "metadata": {},
   "outputs": [
    {
     "data": {
      "text/plain": [
       "'session_20250806_182619_df10d261'"
      ]
     },
     "execution_count": 7,
     "metadata": {},
     "output_type": "execute_result"
    }
   ],
   "source": [
    "f\"session_{datetime.utcnow().strftime('%Y%m%d_%H%M%S')}_{uuid.uuid4().hex[:8]}\""
   ]
  },
  {
   "cell_type": "code",
   "execution_count": 15,
   "id": "594b9e14",
   "metadata": {},
   "outputs": [
    {
     "data": {
      "text/plain": [
       "'20250806_182742'"
      ]
     },
     "execution_count": 15,
     "metadata": {},
     "output_type": "execute_result"
    }
   ],
   "source": [
    "datetime.utcnow().strftime('%Y%m%d_%H%M%S')"
   ]
  },
  {
   "cell_type": "code",
   "execution_count": 22,
   "id": "7918e6bc",
   "metadata": {},
   "outputs": [
    {
     "data": {
      "text/plain": [
       "'e6bfef4f'"
      ]
     },
     "execution_count": 22,
     "metadata": {},
     "output_type": "execute_result"
    }
   ],
   "source": [
    "uuid.uuid4().hex[:8]"
   ]
  },
  {
   "cell_type": "code",
   "execution_count": null,
   "id": "0fc90c59",
   "metadata": {},
   "outputs": [],
   "source": [
    "data_dir, session_id --> session_path -->session dir"
   ]
  },
  {
   "cell_type": "code",
   "execution_count": null,
   "id": "da59c080",
   "metadata": {},
   "outputs": [],
   "source": []
  },
  {
   "cell_type": "code",
   "execution_count": null,
   "id": "e9f66cc0",
   "metadata": {},
   "outputs": [],
   "source": []
  }
 ],
 "metadata": {
  "kernelspec": {
   "display_name": "venv",
   "language": "python",
   "name": "python3"
  },
  "language_info": {
   "codemirror_mode": {
    "name": "ipython",
    "version": 3
   },
   "file_extension": ".py",
   "mimetype": "text/x-python",
   "name": "python",
   "nbconvert_exporter": "python",
   "pygments_lexer": "ipython3",
   "version": "3.10.0"
  }
 },
 "nbformat": 4,
 "nbformat_minor": 5
}
