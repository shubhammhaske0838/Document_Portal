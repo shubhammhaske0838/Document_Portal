{
 "cells": [
  {
   "cell_type": "code",
   "execution_count": 1,
   "id": "1ed60e99",
   "metadata": {},
   "outputs": [],
   "source": [
    "import logging\n",
    "import os\n",
    "from datetime import datetime"
   ]
  },
  {
   "cell_type": "code",
   "execution_count": 3,
   "id": "4837248b",
   "metadata": {},
   "outputs": [],
   "source": [
    "logs_dir = os.path.join(os.getcwd(),\"logs\")"
   ]
  },
  {
   "cell_type": "code",
   "execution_count": 20,
   "id": "67967ece",
   "metadata": {},
   "outputs": [
    {
     "data": {
      "text/plain": [
       "'c:\\\\Python\\\\2025\\\\Gen AI - 25\\\\LLMOPS Projects\\\\Document_Portal\\\\notebook\\\\logs'"
      ]
     },
     "execution_count": 20,
     "metadata": {},
     "output_type": "execute_result"
    }
   ],
   "source": [
    "logs_dir"
   ]
  },
  {
   "cell_type": "code",
   "execution_count": 8,
   "id": "52afc8e8",
   "metadata": {},
   "outputs": [],
   "source": [
    "os.makedirs(logs_dir,exist_ok = True)"
   ]
  },
  {
   "cell_type": "code",
   "execution_count": 12,
   "id": "104550ca",
   "metadata": {},
   "outputs": [],
   "source": [
    "LOG_FILE = f\"{datetime.now().strftime('%m_%d_%Y_%H_%M_%S')}.log\""
   ]
  },
  {
   "cell_type": "code",
   "execution_count": 16,
   "id": "b8732edc",
   "metadata": {},
   "outputs": [
    {
     "data": {
      "text/plain": [
       "'07_26_2025_14_45_26.log'"
      ]
     },
     "execution_count": 16,
     "metadata": {},
     "output_type": "execute_result"
    }
   ],
   "source": [
    "LOG_FILE"
   ]
  },
  {
   "cell_type": "code",
   "execution_count": null,
   "id": "8f87c495",
   "metadata": {},
   "outputs": [],
   "source": [
    "#today\n",
    "with today's date log file will be creted\n",
    "\n",
    "#tomorrow\n",
    "with tomorrow's date log file will be created"
   ]
  },
  {
   "cell_type": "code",
   "execution_count": 14,
   "id": "03240661",
   "metadata": {},
   "outputs": [],
   "source": [
    "LOG_FILE_PATH = os.path.join(logs_dir,LOG_FILE)"
   ]
  },
  {
   "cell_type": "code",
   "execution_count": 15,
   "id": "3a5b9a05",
   "metadata": {},
   "outputs": [
    {
     "data": {
      "text/plain": [
       "'c:\\\\Python\\\\2025\\\\Gen AI - 25\\\\LLMOPS Projects\\\\Document_Portal\\\\notebook\\\\logs\\\\07_26_2025_14_45_26.log'"
      ]
     },
     "execution_count": 15,
     "metadata": {},
     "output_type": "execute_result"
    }
   ],
   "source": [
    "LOG_FILE_PATH"
   ]
  },
  {
   "cell_type": "code",
   "execution_count": null,
   "id": "eab9ff57",
   "metadata": {},
   "outputs": [],
   "source": [
    "#[ 2025-07-26 14:50:37,751 ] INFO DocumentPortal (line:1) - This is an info message"
   ]
  },
  {
   "cell_type": "code",
   "execution_count": 17,
   "id": "1f86c0de",
   "metadata": {},
   "outputs": [],
   "source": [
    "logging.basicConfig(\n",
    "    filename=LOG_FILE_PATH,\n",
    "    format=\"[ %(asctime)s ] %(levelname)s %(name)s (line:%(lineno)d) - %(message)s\",\n",
    "    level=logging.INFO,\n",
    ")"
   ]
  },
  {
   "cell_type": "code",
   "execution_count": 18,
   "id": "3a9147a5",
   "metadata": {},
   "outputs": [],
   "source": [
    "logger=logging.getLogger(\"DocumentPortal\")"
   ]
  },
  {
   "cell_type": "code",
   "execution_count": 19,
   "id": "55707746",
   "metadata": {},
   "outputs": [],
   "source": [
    "logger.info(\"This is an info message\")"
   ]
  },
  {
   "cell_type": "code",
   "execution_count": 14,
   "id": "e283797d",
   "metadata": {},
   "outputs": [
    {
     "name": "stdout",
     "output_type": "stream",
     "text": [
      "logs\n"
     ]
    }
   ],
   "source": [
    "class CustomLogger:\n",
    "\n",
    "    def __init__(self,logs_dirs = \"logs\"):\n",
    "        self.logs_dirs = logs_dirs\n",
    "        # print(self.logs_dirs)\n",
    "\n",
    "    def get_1(self):\n",
    "        print(self.logs_dirs)\n",
    "\n",
    "CustomLogger().get_1()\n"
   ]
  },
  {
   "cell_type": "code",
   "execution_count": 15,
   "id": "4434d03c",
   "metadata": {},
   "outputs": [
    {
     "data": {
      "text/plain": [
       "'Hello.py'"
      ]
     },
     "execution_count": 15,
     "metadata": {},
     "output_type": "execute_result"
    }
   ],
   "source": [
    "os.path.basename('Hello.py')"
   ]
  },
  {
   "cell_type": "code",
   "execution_count": null,
   "id": "f44e478d",
   "metadata": {},
   "outputs": [],
   "source": []
  }
 ],
 "metadata": {
  "kernelspec": {
   "display_name": "venv",
   "language": "python",
   "name": "python3"
  },
  "language_info": {
   "codemirror_mode": {
    "name": "ipython",
    "version": 3
   },
   "file_extension": ".py",
   "mimetype": "text/x-python",
   "name": "python",
   "nbconvert_exporter": "python",
   "pygments_lexer": "ipython3",
   "version": "3.10.0"
  }
 },
 "nbformat": 4,
 "nbformat_minor": 5
}
